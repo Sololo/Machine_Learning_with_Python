{
 "cells": [
  {
   "cell_type": "markdown",
   "id": "0a5a7a6e",
   "metadata": {},
   "source": [
    "# Tensors\n",
    "\n",
    "A tensor is a generalisation of vectors and matrices to potentially higher dimensions. Internally, TensorFlow represents tensors as n-dimensional arrays of base datatypes. They are fundamental aspect of TensorFlow. They are the main objects that are passed around and manipulated throughout the program. Each tensor represents a partial defines computation that will eventually produce a value. TensorFlow programs work by building a graph of Tensor objevts that details how tensors are related. Running different parts of the graph allow results to be generated.\n",
    "\n",
    "Each tensor has a data type and a shape."
   ]
  },
  {
   "cell_type": "markdown",
   "id": "ad9bdabb",
   "metadata": {},
   "source": [
    "# Creating Tensors"
   ]
  },
  {
   "cell_type": "code",
   "execution_count": 1,
   "id": "292807b7",
   "metadata": {},
   "outputs": [],
   "source": [
    "# Imports\n",
    "\n",
    "import tensorflow as tf"
   ]
  },
  {
   "cell_type": "code",
   "execution_count": 3,
   "id": "506e0603",
   "metadata": {},
   "outputs": [],
   "source": [
    "string = tf.Variable(\"this is a string\", tf.string)\n",
    "number = tf.Variable(324, tf.int16)\n",
    "floating = tf.Variable(3.567, tf.float64)"
   ]
  },
  {
   "cell_type": "markdown",
   "id": "0197e79d",
   "metadata": {},
   "source": [
    "## Rank/Degree of Tensors\n",
    "\n",
    "Mean the number of dimensions involved in the tensor. What we created abopve is a tensor of ank 0, known as a scalar (one value).\n",
    "\n",
    "Below are tensors of higher degrees/ranks"
   ]
  },
  {
   "cell_type": "code",
   "execution_count": 9,
   "id": "fba294a6",
   "metadata": {},
   "outputs": [],
   "source": [
    "rank1_tensor = tf.Variable([\"Test\", \"Ok\"], tf.string)\n",
    "rank2_tensor = tf.Variable([[\"test\", \"ok\",\"yeh\"], [\"test\", \"yes\",  \"yeh\"]], tf.string)\n",
    "rank3_tensor = tf.Variable([[[\"Test\", \"ok\",\"yeh\"],[\"Test\", \"ok\",\"yeh\"]], [[\"Test\", \"ok\",\"yeh\"],[\"Test\", \"ok\",\"yeh\"]]], tf.string)"
   ]
  },
  {
   "cell_type": "markdown",
   "id": "839e877a",
   "metadata": {},
   "source": [
    "## To determine the rank of a tensor we use"
   ]
  },
  {
   "cell_type": "code",
   "execution_count": 10,
   "id": "fb5b04c3",
   "metadata": {},
   "outputs": [
    {
     "data": {
      "text/plain": [
       "<tf.Tensor: shape=(), dtype=int32, numpy=3>"
      ]
     },
     "execution_count": 10,
     "metadata": {},
     "output_type": "execute_result"
    }
   ],
   "source": [
    "tf.rank(rank3_tensor)"
   ]
  },
  {
   "cell_type": "markdown",
   "id": "d0e6c88c",
   "metadata": {},
   "source": [
    "## Shape of Tensors\n",
    "\n",
    "The shape of a tensor is the amount of elements that exist in each dimension. TensorFlow will try to determine the shape of a tensor but sometimes it may be unknown."
   ]
  },
  {
   "cell_type": "code",
   "execution_count": 12,
   "id": "81320903",
   "metadata": {},
   "outputs": [
    {
     "data": {
      "text/plain": [
       "TensorShape([2, 2, 3])"
      ]
     },
     "execution_count": 12,
     "metadata": {},
     "output_type": "execute_result"
    }
   ],
   "source": [
    "rank3_tensor.shape"
   ]
  },
  {
   "cell_type": "markdown",
   "id": "3a851f60",
   "metadata": {},
   "source": [
    "## Changing Shape\n",
    "\n",
    "The number of elements of a tensor is the product of the size of all its shapes.\n",
    "Often there are many shapes that have the same number of elemets, which make it convenient to change the shape of the tensor."
   ]
  },
  {
   "cell_type": "code",
   "execution_count": null,
   "id": "f618ba67",
   "metadata": {},
   "outputs": [],
   "source": [
    "tensor1 = tf.ones([1,2,3])            # tf.ones creates a shape [ 1,2,3] tensor which is full of ones\n",
    "tensor2 = tf.reshape(tensor1,[2,3,1]) # rehsape existing data to specified shape\n",
    "tensor3= tf.reshape(tensor2,[3,-1])    # -1 tells the tensor to calculate the size of the dimension in that place\n",
    "                                      # This will reshape the tensor to [3,2]\n",
    "\n",
    "# The number of elements in the reshape tensor MUST match the number in the original"
   ]
  },
  {
   "cell_type": "code",
   "execution_count": 17,
   "id": "fe74ae79",
   "metadata": {},
   "outputs": [
    {
     "name": "stdout",
     "output_type": "stream",
     "text": [
      "tf.Tensor(\n",
      "[[[1. 1. 1.]\n",
      "  [1. 1. 1.]]], shape=(1, 2, 3), dtype=float32)\n",
      "tf.Tensor(\n",
      "[[[1.]\n",
      "  [1.]\n",
      "  [1.]]\n",
      "\n",
      " [[1.]\n",
      "  [1.]\n",
      "  [1.]]], shape=(2, 3, 1), dtype=float32)\n",
      "tf.Tensor(\n",
      "[[1. 1.]\n",
      " [1. 1.]\n",
      " [1. 1.]], shape=(3, 2), dtype=float32)\n"
     ]
    }
   ],
   "source": [
    "print(tensor1)\n",
    "print(tensor2)\n",
    "print(tensor3)\n"
   ]
  },
  {
   "cell_type": "markdown",
   "id": "c9cb8e83",
   "metadata": {},
   "source": [
    "## Types of Tensors\n",
    "\n",
    "### Different types of tensors\n",
    "* Variable\n",
    "* Constant\n",
    "* Placeholder\n",
    "* SparseTensor\n",
    "\n",
    "With the exception of Variables all these tensors are immutable, meaning their value may not change during execution."
   ]
  },
  {
   "cell_type": "markdown",
   "id": "c4a7d74e",
   "metadata": {},
   "source": [
    "## Evaluating Tensors\n",
    "\n",
    "Evaluate as in get its value. Since tensors represent a partially complete computation we will sometimes need to run what's called a session to evaluate the tensor\n",
    "\n",
    "There are many ways to achieve this (will find out), below is the simplest way."
   ]
  },
  {
   "cell_type": "code",
   "execution_count": 19,
   "id": "171b0311",
   "metadata": {},
   "outputs": [
    {
     "ename": "AttributeError",
     "evalue": "module 'tensorflow' has no attribute 'session'",
     "output_type": "error",
     "traceback": [
      "\u001b[31m---------------------------------------------------------------------------\u001b[39m",
      "\u001b[31mAttributeError\u001b[39m                            Traceback (most recent call last)",
      "\u001b[36mCell\u001b[39m\u001b[36m \u001b[39m\u001b[32mIn[19]\u001b[39m\u001b[32m, line 1\u001b[39m\n\u001b[32m----> \u001b[39m\u001b[32m1\u001b[39m \u001b[38;5;28;01mwith\u001b[39;00m \u001b[43mtf\u001b[49m\u001b[43m.\u001b[49m\u001b[43msession\u001b[49m() \u001b[38;5;28;01mas\u001b[39;00m sess: \u001b[38;5;66;03m# creates a session using the default graph\u001b[39;00m\n\u001b[32m      2\u001b[39m     tensor.eval()          \u001b[38;5;66;03m# tensor will ofcourse be the name of your tensor\u001b[39;00m\n",
      "\u001b[31mAttributeError\u001b[39m: module 'tensorflow' has no attribute 'session'"
     ]
    }
   ],
   "source": [
    "with tf.session() as sess: # creates a session using the default graph\n",
    "    tensor.eval()          # tensor will ofcourse be the name of your tensor"
   ]
  },
  {
   "cell_type": "markdown",
   "id": "b9b79d5e",
   "metadata": {},
   "source": [
    "In the code above the tensor variable that was stored in the default graph is evaluated. The default graph holds all operations not specified to any other graph. It is possible to create our own seperate graphs but for now we will stick with the default."
   ]
  },
  {
   "cell_type": "markdown",
   "id": "9677376b",
   "metadata": {},
   "source": [
    "## Reshaping Examples"
   ]
  },
  {
   "cell_type": "code",
   "execution_count": 25,
   "id": "580a4262",
   "metadata": {},
   "outputs": [
    {
     "name": "stdout",
     "output_type": "stream",
     "text": [
      "<module 'tensorflow._api.v2.version' from 'C:\\\\Users\\\\karab\\\\AppData\\\\Roaming\\\\Python\\\\Python311\\\\site-packages\\\\tensorflow\\\\_api\\\\v2\\\\version\\\\__init__.py'>\n",
      "tf.Tensor(\n",
      "[[0. 0. 0. 0. 0.]\n",
      " [0. 0. 0. 0. 0.]\n",
      " [0. 0. 0. 0. 0.]\n",
      " [0. 0. 0. 0. 0.]\n",
      " [0. 0. 0. 0. 0.]\n",
      " [0. 0. 0. 0. 0.]\n",
      " [0. 0. 0. 0. 0.]\n",
      " [0. 0. 0. 0. 0.]\n",
      " [0. 0. 0. 0. 0.]\n",
      " [0. 0. 0. 0. 0.]\n",
      " [0. 0. 0. 0. 0.]\n",
      " [0. 0. 0. 0. 0.]\n",
      " [0. 0. 0. 0. 0.]\n",
      " [0. 0. 0. 0. 0.]\n",
      " [0. 0. 0. 0. 0.]\n",
      " [0. 0. 0. 0. 0.]\n",
      " [0. 0. 0. 0. 0.]\n",
      " [0. 0. 0. 0. 0.]\n",
      " [0. 0. 0. 0. 0.]\n",
      " [0. 0. 0. 0. 0.]\n",
      " [0. 0. 0. 0. 0.]\n",
      " [0. 0. 0. 0. 0.]\n",
      " [0. 0. 0. 0. 0.]\n",
      " [0. 0. 0. 0. 0.]\n",
      " [0. 0. 0. 0. 0.]\n",
      " [0. 0. 0. 0. 0.]\n",
      " [0. 0. 0. 0. 0.]\n",
      " [0. 0. 0. 0. 0.]\n",
      " [0. 0. 0. 0. 0.]\n",
      " [0. 0. 0. 0. 0.]\n",
      " [0. 0. 0. 0. 0.]\n",
      " [0. 0. 0. 0. 0.]\n",
      " [0. 0. 0. 0. 0.]\n",
      " [0. 0. 0. 0. 0.]\n",
      " [0. 0. 0. 0. 0.]\n",
      " [0. 0. 0. 0. 0.]\n",
      " [0. 0. 0. 0. 0.]\n",
      " [0. 0. 0. 0. 0.]\n",
      " [0. 0. 0. 0. 0.]\n",
      " [0. 0. 0. 0. 0.]\n",
      " [0. 0. 0. 0. 0.]\n",
      " [0. 0. 0. 0. 0.]\n",
      " [0. 0. 0. 0. 0.]\n",
      " [0. 0. 0. 0. 0.]\n",
      " [0. 0. 0. 0. 0.]\n",
      " [0. 0. 0. 0. 0.]\n",
      " [0. 0. 0. 0. 0.]\n",
      " [0. 0. 0. 0. 0.]\n",
      " [0. 0. 0. 0. 0.]\n",
      " [0. 0. 0. 0. 0.]\n",
      " [0. 0. 0. 0. 0.]\n",
      " [0. 0. 0. 0. 0.]\n",
      " [0. 0. 0. 0. 0.]\n",
      " [0. 0. 0. 0. 0.]\n",
      " [0. 0. 0. 0. 0.]\n",
      " [0. 0. 0. 0. 0.]\n",
      " [0. 0. 0. 0. 0.]\n",
      " [0. 0. 0. 0. 0.]\n",
      " [0. 0. 0. 0. 0.]\n",
      " [0. 0. 0. 0. 0.]\n",
      " [0. 0. 0. 0. 0.]\n",
      " [0. 0. 0. 0. 0.]\n",
      " [0. 0. 0. 0. 0.]\n",
      " [0. 0. 0. 0. 0.]\n",
      " [0. 0. 0. 0. 0.]\n",
      " [0. 0. 0. 0. 0.]\n",
      " [0. 0. 0. 0. 0.]\n",
      " [0. 0. 0. 0. 0.]\n",
      " [0. 0. 0. 0. 0.]\n",
      " [0. 0. 0. 0. 0.]\n",
      " [0. 0. 0. 0. 0.]\n",
      " [0. 0. 0. 0. 0.]\n",
      " [0. 0. 0. 0. 0.]\n",
      " [0. 0. 0. 0. 0.]\n",
      " [0. 0. 0. 0. 0.]\n",
      " [0. 0. 0. 0. 0.]\n",
      " [0. 0. 0. 0. 0.]\n",
      " [0. 0. 0. 0. 0.]\n",
      " [0. 0. 0. 0. 0.]\n",
      " [0. 0. 0. 0. 0.]\n",
      " [0. 0. 0. 0. 0.]\n",
      " [0. 0. 0. 0. 0.]\n",
      " [0. 0. 0. 0. 0.]\n",
      " [0. 0. 0. 0. 0.]\n",
      " [0. 0. 0. 0. 0.]\n",
      " [0. 0. 0. 0. 0.]\n",
      " [0. 0. 0. 0. 0.]\n",
      " [0. 0. 0. 0. 0.]\n",
      " [0. 0. 0. 0. 0.]\n",
      " [0. 0. 0. 0. 0.]\n",
      " [0. 0. 0. 0. 0.]\n",
      " [0. 0. 0. 0. 0.]\n",
      " [0. 0. 0. 0. 0.]\n",
      " [0. 0. 0. 0. 0.]\n",
      " [0. 0. 0. 0. 0.]\n",
      " [0. 0. 0. 0. 0.]\n",
      " [0. 0. 0. 0. 0.]\n",
      " [0. 0. 0. 0. 0.]\n",
      " [0. 0. 0. 0. 0.]\n",
      " [0. 0. 0. 0. 0.]\n",
      " [0. 0. 0. 0. 0.]\n",
      " [0. 0. 0. 0. 0.]\n",
      " [0. 0. 0. 0. 0.]\n",
      " [0. 0. 0. 0. 0.]\n",
      " [0. 0. 0. 0. 0.]\n",
      " [0. 0. 0. 0. 0.]\n",
      " [0. 0. 0. 0. 0.]\n",
      " [0. 0. 0. 0. 0.]\n",
      " [0. 0. 0. 0. 0.]\n",
      " [0. 0. 0. 0. 0.]\n",
      " [0. 0. 0. 0. 0.]\n",
      " [0. 0. 0. 0. 0.]\n",
      " [0. 0. 0. 0. 0.]\n",
      " [0. 0. 0. 0. 0.]\n",
      " [0. 0. 0. 0. 0.]\n",
      " [0. 0. 0. 0. 0.]\n",
      " [0. 0. 0. 0. 0.]\n",
      " [0. 0. 0. 0. 0.]\n",
      " [0. 0. 0. 0. 0.]\n",
      " [0. 0. 0. 0. 0.]\n",
      " [0. 0. 0. 0. 0.]\n",
      " [0. 0. 0. 0. 0.]\n",
      " [0. 0. 0. 0. 0.]\n",
      " [0. 0. 0. 0. 0.]\n",
      " [0. 0. 0. 0. 0.]], shape=(125, 5), dtype=float32)\n"
     ]
    }
   ],
   "source": [
    "#%tensorflow_version 2.x\n",
    "print(tf.version)\n",
    "\n",
    "t = tf.zeros([5,5,5,5])\n",
    "\n",
    "t  = tf.reshape(t,[125, -1])\n",
    "print(t)"
   ]
  }
 ],
 "metadata": {
  "kernelspec": {
   "display_name": "Python 3",
   "language": "python",
   "name": "python3"
  },
  "language_info": {
   "codemirror_mode": {
    "name": "ipython",
    "version": 3
   },
   "file_extension": ".py",
   "mimetype": "text/x-python",
   "name": "python",
   "nbconvert_exporter": "python",
   "pygments_lexer": "ipython3",
   "version": "3.11.8"
  }
 },
 "nbformat": 4,
 "nbformat_minor": 5
}
